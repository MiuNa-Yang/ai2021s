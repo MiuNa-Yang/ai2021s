{
 "cells": [
  {
   "cell_type": "markdown",
   "metadata": {},
   "source": [
    "# 作业3：深度学习框架实践"
   ]
  },
  {
   "cell_type": "markdown",
   "metadata": {},
   "source": [
    "本次作业将练习深度学习框架的使用，大部分内容用 PyTorch 实现。第1题利用卷积层和全连接层实现手写数字的识别，第2题利用 RNN 来实现英文名的自动生成，第3题是算法题，利用卷积运算实现任意大整数的乘法。"
   ]
  },
  {
   "cell_type": "markdown",
   "metadata": {},
   "source": [
    "### 第1题"
   ]
  },
  {
   "cell_type": "markdown",
   "metadata": {},
   "source": [
    "1. 目标：通过对 MNIST 数据进行训练，构建一个简单的图像分类模型，对图片中的数字进行识别。你将利用该模型对自己真实手写出的数字进行预测，观察模型效果。"
   ]
  },
  {
   "cell_type": "markdown",
   "metadata": {},
   "source": [
    "2. 主要步骤：获取数据，创建模型结构，定义损失函数，编写训练循环，实施预测。"
   ]
  },
  {
   "cell_type": "markdown",
   "metadata": {},
   "source": [
    "3. 获取数据。我们使用知名的 MNIST 数据集，它可以从 PyTorch 中利用工具函数下载得到。原始的 MNIST 数据训练集大小为60000，我们随机抽取其中的10000个观测进行简单的训练。以下函数会在当前目录建立一个名为 data 的文件夹，其中会包含下载得到的数据集。"
   ]
  },
  {
   "cell_type": "markdown",
   "metadata": {},
   "source": [
    "**注意：请在任何程序的最开始加上随机数种子的设置。请保持这一习惯。**"
   ]
  },
  {
   "cell_type": "code",
   "execution_count": 1,
   "metadata": {},
   "outputs": [],
   "source": [
    "import numpy as np\n",
    "import torch\n",
    "from torchvision import datasets\n",
    "from torchvision.transforms import ToTensor\n",
    "from torch.utils.data import DataLoader\n",
    "\n",
    "np.random.seed(123)\n",
    "torch.manual_seed(123)\n",
    "\n",
    "mnist = datasets.MNIST(\n",
    "    root=\"data\",\n",
    "    train=True,\n",
    "    download=True,\n",
    "    transform=ToTensor()\n",
    ")\n",
    "loader = DataLoader(mnist, batch_size=256, shuffle=True)"
   ]
  },
  {
   "cell_type": "markdown",
   "metadata": {},
   "source": [
    "我们一次性取出随机抽取到的10000个观测，其中 x 是图片数据，y 是图片对应的数字。"
   ]
  },
  {
   "cell_type": "code",
   "execution_count": 2,
   "metadata": {},
   "outputs": [],
   "source": [
    "x, y = next(iter(loader))"
   ]
  },
  {
   "cell_type": "markdown",
   "metadata": {},
   "source": [
    "一个习惯性动作是查看数据的大小和维度。"
   ]
  },
  {
   "cell_type": "code",
   "execution_count": 3,
   "metadata": {},
   "outputs": [
    {
     "name": "stdout",
     "output_type": "stream",
     "text": [
      "torch.Size([256, 1, 28, 28])\n",
      "torch.Size([256])\n"
     ]
    }
   ],
   "source": [
    "print(x.shape)\n",
    "print(y.shape)"
   ]
  },
  {
   "cell_type": "markdown",
   "metadata": {},
   "source": [
    "我们可以利用下面的函数展示图片的内容。如选择第一张图片，先将其转换成 Numpy 数组，再绘制图形："
   ]
  },
  {
   "cell_type": "code",
   "execution_count": 4,
   "metadata": {
    "scrolled": true
   },
   "outputs": [
    {
     "name": "stdout",
     "output_type": "stream",
     "text": [
      "(28, 28)\n"
     ]
    },
    {
     "data": {
      "image/png": "[encoded data removed]",
      "text/plain": [
       "<Figure size 432x288 with 1 Axes>"
      ]
     },
     "metadata": {
      "needs_background": "light"
     },
     "output_type": "display_data"
    }
   ],
   "source": [
    "import matplotlib.pyplot as plt\n",
    "\n",
    "img = x[0].squeeze().cpu().numpy()\n",
    "print(img.shape)\n",
    "plt.imshow(img, cmap=\"gray\")\n",
    "plt.show()"
   ]
  },
  {
   "cell_type": "markdown",
   "metadata": {},
   "source": [
    "接下来请你选择5个你喜欢的数字（10000以下），然后取出对应位置的图片，并画出它们的内容。"
   ]
  },
  {
   "cell_type": "code",
   "execution_count": 5,
   "metadata": {},
   "outputs": [
    {
     "data": {
      "image/png": "[encoded data removed]",
      "text/plain": [
       "<Figure size 432x288 with 5 Axes>"
      ]
     },
     "metadata": {
      "needs_background": "light"
     },
     "output_type": "display_data"
    }
   ],
   "source": [
    "# Plot five digits here\n",
    "img1 = x[666].squeeze().cpu().numpy()\n",
    "img2 = x[1234].squeeze().cpu().numpy()\n",
    "img3 = x[9999].squeeze().cpu().numpy()\n",
    "img4 = x[450].squeeze().cpu().numpy()\n",
    "img5 = x[550].squeeze().cpu().numpy()\n",
    "plt.figure()\n",
    "\n",
    "plt.subplot(1,5,1)\n",
    "plt.imshow(img1, cmap=\"gray\")\n",
    "plt.subplot(1,5,2)\n",
    "plt.imshow(img2, cmap=\"gray\")\n",
    "plt.subplot(1,5,3)\n",
    "plt.imshow(img3, cmap=\"gray\")\n",
    "plt.subplot(1,5,4)\n",
    "plt.imshow(img4, cmap=\"gray\")\n",
    "plt.subplot(1,5,5)\n",
    "plt.imshow(img5, cmap=\"gray\")\n",
    "plt.show()"
   ]
  },
  {
   "cell_type": "markdown",
   "metadata": {},
   "source": [
    "4. 搭建模型。我们搭建一个类似于 LeNet-5 的网络，结构如下："
   ]
  },
  {
   "cell_type": "markdown",
   "metadata": {},
   "source": [
    "![](https://pic1.zhimg.com/80/v2-82eabb4c17e90d467197d013f7629f3c_720w.jpg)"
   ]
  },
  {
   "cell_type": "markdown",
   "metadata": {},
   "source": [
    "我们需要创建2个卷积层、2个汇聚层（池化层）和2个全连接层，**暂时忽略所有的激活函数**。所有隐藏层的函数细节都可以在[官方文档](https://pytorch.org/docs/stable/nn.html)中按分类找到。每一个隐藏层本质上都是将一个数组变换成另一个数组的函数，因此为了确认编写的模型是正确的，可以先用一个小数据进行测试，观察输入和输出的维度。例如，我们先取出前10个观测，此时输入的维度是 `[10, 1, 28, 28]`："
   ]
  },
  {
   "cell_type": "code",
   "execution_count": 5,
   "metadata": {},
   "outputs": [
    {
     "name": "stdout",
     "output_type": "stream",
     "text": [
      "torch.Size([10, 1, 28, 28])\n",
      "torch.Size([10])\n"
     ]
    }
   ],
   "source": [
    "smallx = x[0:10]\n",
    "smally = y[0:10]\n",
    "print(smallx.shape)\n",
    "print(smally.shape)"
   ]
  },
  {
   "cell_type": "markdown",
   "metadata": {},
   "source": [
    "接下来创建第1个卷积层，并测试输出的维度。注意到我们可以直接将隐藏层当成一个函数来调用。"
   ]
  },
  {
   "cell_type": "code",
   "execution_count": 7,
   "metadata": {},
   "outputs": [
    {
     "name": "stdout",
     "output_type": "stream",
     "text": [
      "torch.Size([10, 20, 24, 24])\n"
     ]
    }
   ],
   "source": [
    "conv1 = torch.nn.Conv2d(in_channels=1, out_channels=20, kernel_size=5, stride=1)\n",
    "res = conv1(smallx)\n",
    "print(res.shape)"
   ]
  },
  {
   "cell_type": "code",
   "execution_count": 8,
   "metadata": {},
   "outputs": [
    {
     "name": "stdout",
     "output_type": "stream",
     "text": [
      "torch.Size([10, 20, 12, 12])\n"
     ]
    }
   ],
   "source": [
    "pool1 = torch.nn.MaxPool2d(2, stride=2)\n",
    "res = pool1(res)\n",
    "print(res.shape)"
   ]
  },
  {
   "cell_type": "code",
   "execution_count": 9,
   "metadata": {},
   "outputs": [
    {
     "name": "stdout",
     "output_type": "stream",
     "text": [
      "torch.Size([10, 50, 8, 8])\n"
     ]
    }
   ],
   "source": [
    "conv2 = torch.nn.Conv2d(in_channels=20, out_channels=50, kernel_size=5, stride=1)\n",
    "res = conv2(res)\n",
    "print(res.shape)"
   ]
  },
  {
   "cell_type": "code",
   "execution_count": 52,
   "metadata": {},
   "outputs": [
    {
     "name": "stdout",
     "output_type": "stream",
     "text": [
      "torch.Size([10, 50, 4, 4])\n"
     ]
    }
   ],
   "source": [
    "pool2 = torch.nn.MaxPool2d(2, stride=2)\n",
    "res = pool2(res)\n",
    "print(res.shape)"
   ]
  },
  {
   "cell_type": "code",
   "execution_count": 53,
   "metadata": {},
   "outputs": [
    {
     "name": "stdout",
     "output_type": "stream",
     "text": [
      "torch.Size([10, 800])\n"
     ]
    }
   ],
   "source": [
    "res = res.view(-1, 50*4*4)\n",
    "print(res.shape)"
   ]
  },
  {
   "cell_type": "code",
   "execution_count": 54,
   "metadata": {},
   "outputs": [
    {
     "name": "stdout",
     "output_type": "stream",
     "text": [
      "torch.Size([10, 500])\n"
     ]
    }
   ],
   "source": [
    "fc1 = torch.nn.Linear(50*4*4, 500)\n",
    "res = fc1(res)\n",
    "print(res.shape)"
   ]
  },
  {
   "cell_type": "code",
   "execution_count": 55,
   "metadata": {},
   "outputs": [
    {
     "name": "stdout",
     "output_type": "stream",
     "text": [
      "torch.Size([10, 10])\n"
     ]
    }
   ],
   "source": [
    "fc2 = torch.nn.Linear(500, 10)\n",
    "res = fc2(res)\n",
    "print(res.shape)"
   ]
  },
  {
   "cell_type": "markdown",
   "metadata": {},
   "source": [
    "可以看到，输出的维度为 `[20, 24, 24]`（不包括第1位的数据批次维度），与之前图中的结果吻合。"
   ]
  },
  {
   "cell_type": "markdown",
   "metadata": {},
   "source": [
    "接下来，请按照图中提示编写层对象 `pool1`、`conv2`、`pool2`、`fc1` 和 `fc2`，并顺次测试输入与输出的维度，使其与上图匹配。注意，在将一个大小为 `[10, 50, 4, 4]` 的数组（假设叫 `somearray`）传递给 `fc1` 之前，需要先将其变形为只有两个维度的数组，做法是 `somearray.view(-1, 50*4*4)`，其中 -1 表示该位置的大小不变。"
   ]
  },
  {
   "cell_type": "markdown",
   "metadata": {},
   "source": [
    "```py\n",
    "pool1 = ...\n",
    "res = pool1(res)\n",
    "print(res.shape)\n",
    "\n",
    "conv2 = ...\n",
    "res = conv2(res)\n",
    "print(res.shape)\n",
    "\n",
    "pool2 = ...\n",
    "res = pool2(res)\n",
    "print(res.shape)\n",
    "\n",
    "fc1 = ...\n",
    "res = fc1(res.view(-1, 50 * 4 * 4))\n",
    "print(res.shape)\n",
    "\n",
    "fc2 = ...\n",
    "res = fc2(res)\n",
    "print(res.shape)\n",
    "```"
   ]
  },
  {
   "cell_type": "code",
   "execution_count": null,
   "metadata": {},
   "outputs": [],
   "source": []
  },
  {
   "cell_type": "markdown",
   "metadata": {},
   "source": [
    "5. 创建模型类。在确保隐藏层维度都正确后，将所有的隐藏层封装到一个模型类中，其中模型结构在 `__init__()` 中定义，具体的计算过程在 `forward()` 中实现。此时需要加入激活函数。在本模型中，**请在 `conv1`、`conv2` 和 `fc1` 后加入 ReLU 激活函数，并在 `fc2` 后加入 Softmax 激活函数**。"
   ]
  },
  {
   "cell_type": "markdown",
   "metadata": {},
   "source": [
    "```py\n",
    "class MyModel(torch.nn.Module):\n",
    "    def __init__(self):\n",
    "        super().__init__()\n",
    "        self.conv1 = ...\n",
    "        self.pool1 = ...\n",
    "        self.conv2 = ...\n",
    "        self.pool2 = ...\n",
    "        self.fc1 = ...\n",
    "        self.fc2 = ...\n",
    "\n",
    "    def forward(self, x):\n",
    "        x = self.conv1(x)\n",
    "        x = torch.relu(x)\n",
    "        x = self.pool1(x)\n",
    "        ...\n",
    "        return x\n",
    "```"
   ]
  },
  {
   "cell_type": "code",
   "execution_count": 6,
   "metadata": {},
   "outputs": [],
   "source": [
    "import torch.nn.functional as F\n",
    "class MyModel(torch.nn.Module):\n",
    "    def __init__(self):\n",
    "        super().__init__()\n",
    "        self.conv1 = torch.nn.Conv2d(in_channels=1, out_channels=20, kernel_size=5, stride=1)\n",
    "        self.pool1 = torch.nn.MaxPool2d(2, stride=2)\n",
    "        self.conv2 = torch.nn.Conv2d(in_channels=20, out_channels=50, kernel_size=5, stride=1)\n",
    "        self.pool2 = torch.nn.MaxPool2d(2, stride=2)\n",
    "        self.fc1 = torch.nn.Linear(50*4*4, 500)\n",
    "        self.fc2 = torch.nn.Linear(500, 10)\n",
    "    \n",
    "    def forward(self, x):\n",
    "        x = self.conv1(x)\n",
    "        x = F.relu(x)\n",
    "        x = self.pool1(x)\n",
    "        x = self.conv2(x)\n",
    "        x = F.relu(x)\n",
    "        x = self.pool2(x)\n",
    "        x = x.view(-1, 50*4*4)\n",
    "        x = self.fc1(x)\n",
    "        x = F.relu(x)\n",
    "        x = self.fc2(x)\n",
    "        x = F.softmax(x, dim=1)\n",
    "        \n",
    "        return x"
   ]
  },
  {
   "cell_type": "markdown",
   "metadata": {},
   "source": [
    "再次测试输入输出的维度是否正确。如果模型编写正确，输出的维度应该是 `[10, 10]`，且输出结果为0到1之间的概率值。"
   ]
  },
  {
   "cell_type": "code",
   "execution_count": 7,
   "metadata": {},
   "outputs": [
    {
     "name": "stdout",
     "output_type": "stream",
     "text": [
      "torch.Size([10, 10])\n",
      "tensor([[0.0961, 0.0966, 0.0983, 0.1067, 0.0985, 0.1030, 0.0934, 0.1048, 0.0969,\n",
      "         0.1058],\n",
      "        [0.0954, 0.0962, 0.0977, 0.1045, 0.0978, 0.1044, 0.0953, 0.1027, 0.0967,\n",
      "         0.1094],\n",
      "        [0.0926, 0.0981, 0.1008, 0.1038, 0.0982, 0.1040, 0.0975, 0.1039, 0.0925,\n",
      "         0.1085],\n",
      "        [0.0909, 0.0976, 0.1011, 0.1054, 0.0972, 0.1045, 0.0964, 0.1019, 0.0965,\n",
      "         0.1085],\n",
      "        [0.0964, 0.0958, 0.0981, 0.1027, 0.0977, 0.1044, 0.0982, 0.1046, 0.0940,\n",
      "         0.1080],\n",
      "        [0.0959, 0.0986, 0.0991, 0.1055, 0.0970, 0.1034, 0.0949, 0.1035, 0.0952,\n",
      "         0.1069],\n",
      "        [0.0929, 0.1000, 0.1020, 0.1065, 0.0956, 0.1025, 0.0941, 0.1026, 0.0965,\n",
      "         0.1074],\n",
      "        [0.0960, 0.0965, 0.0973, 0.1040, 0.0982, 0.1052, 0.0951, 0.1047, 0.0946,\n",
      "         0.1084],\n",
      "        [0.0964, 0.0971, 0.0992, 0.1019, 0.0982, 0.1027, 0.0937, 0.1073, 0.0982,\n",
      "         0.1052],\n",
      "        [0.0929, 0.0976, 0.0998, 0.1041, 0.0984, 0.1039, 0.0973, 0.1028, 0.0956,\n",
      "         0.1076]], grad_fn=<SoftmaxBackward>)\n"
     ]
    }
   ],
   "source": [
    "model = MyModel()\n",
    "pred = model(smallx)\n",
    "print(pred.shape)\n",
    "print(pred)"
   ]
  },
  {
   "cell_type": "markdown",
   "metadata": {},
   "source": [
    "`pred` 的每一行加总为1，其中每一个元素代表对应类别的预测概率。"
   ]
  },
  {
   "cell_type": "markdown",
   "metadata": {},
   "source": [
    "我们还可以直接打印模型对象，观察隐藏层的结构："
   ]
  },
  {
   "cell_type": "code",
   "execution_count": 8,
   "metadata": {
    "scrolled": true
   },
   "outputs": [
    {
     "name": "stdout",
     "output_type": "stream",
     "text": [
      "MyModel(\n",
      "  (conv1): Conv2d(1, 20, kernel_size=(5, 5), stride=(1, 1))\n",
      "  (pool1): MaxPool2d(kernel_size=2, stride=2, padding=0, dilation=1, ceil_mode=False)\n",
      "  (conv2): Conv2d(20, 50, kernel_size=(5, 5), stride=(1, 1))\n",
      "  (pool2): MaxPool2d(kernel_size=2, stride=2, padding=0, dilation=1, ceil_mode=False)\n",
      "  (fc1): Linear(in_features=800, out_features=500, bias=True)\n",
      "  (fc2): Linear(in_features=500, out_features=10, bias=True)\n",
      ")\n"
     ]
    }
   ],
   "source": [
    "print(model)"
   ]
  },
  {
   "cell_type": "markdown",
   "metadata": {},
   "source": [
    "6. 损失函数。对于分类问题，损失函数通常选取为负对数似然函数。在 PyTorch 中，可以使用 `torch.nn.NLLLoss` 来完成计算。其用法是先定义一个损失函数对象，然后在预测值和真实标签上调用该函数对象。注意：损失函数对象的第一个参数是预测概率的**对数值**，第二个参数是真实的标签。[文档说明](https://pytorch.org/docs/stable/generated/torch.nn.NLLLoss.html)。"
   ]
  },
  {
   "cell_type": "code",
   "execution_count": 9,
   "metadata": {},
   "outputs": [
    {
     "name": "stdout",
     "output_type": "stream",
     "text": [
      "2.297905921936035\n"
     ]
    }
   ],
   "source": [
    "lossfn = torch.nn.NLLLoss()\n",
    "loss = lossfn(torch.log(pred), smally)\n",
    "print(loss.item())"
   ]
  },
  {
   "cell_type": "markdown",
   "metadata": {},
   "source": [
    "7. 利用课上介绍的循环模板和代码示例，对模型进行迭代训练。对于本数据，选取 mini-batch 大小为200，共遍历数据10遍，优化器选为 Adam，学习率为0.001。"
   ]
  },
  {
   "cell_type": "code",
   "execution_count": 10,
   "metadata": {},
   "outputs": [],
   "source": [
    "# USE_CUDA = torch.cuda.is_available()\n",
    "USE_CUDA = False\n",
    "np.random.seed(2333)\n",
    "torch.manual_seed(2333)\n",
    "model = MyModel()\n",
    "if USE_CUDA:\n",
    "    torch.cuda.manual_seed(2333)  \n",
    "if USE_CUDA:\n",
    "    model = model.cuda()\n",
    "    \n",
    "\n",
    "bs = 200\n",
    "epochs = 5\n",
    "opt = torch.optim.Adam(model.parameters(), lr=0.001)"
   ]
  },
  {
   "cell_type": "code",
   "execution_count": 11,
   "metadata": {},
   "outputs": [
    {
     "name": "stdout",
     "output_type": "stream",
     "text": [
      "epoch 0, batch 0, loss = 2.3111050128936768\n",
      "epoch 0, batch 10, loss = 1.3686025142669678\n",
      "epoch 0, batch 20, loss = 0.6438823342323303\n",
      "epoch 0, batch 30, loss = 0.4036351442337036\n",
      "epoch 0, batch 40, loss = 0.37020444869995117\n",
      "epoch 0, batch 50, loss = 0.1822630763053894\n",
      "epoch 0, batch 60, loss = 0.1949032098054886\n",
      "epoch 0, batch 70, loss = 0.21689754724502563\n",
      "epoch 0, batch 80, loss = 0.21056587994098663\n",
      "epoch 0, batch 90, loss = 0.23465296626091003\n",
      "epoch 0, batch 100, loss = 0.19822455942630768\n",
      "epoch 0, batch 110, loss = 0.22244040668010712\n",
      "epoch 0, batch 120, loss = 0.16558688879013062\n",
      "epoch 0, batch 130, loss = 0.06938137114048004\n",
      "epoch 0, batch 140, loss = 0.11859525740146637\n",
      "epoch 0, batch 150, loss = 0.13892051577568054\n",
      "epoch 0, batch 160, loss = 0.059415023773908615\n",
      "epoch 0, batch 170, loss = 0.08042938262224197\n",
      "epoch 0, batch 180, loss = 0.09035935997962952\n",
      "epoch 0, batch 190, loss = 0.1159236952662468\n",
      "epoch 0, batch 200, loss = 0.05637604370713234\n",
      "epoch 0, batch 210, loss = 0.05910976976156235\n",
      "epoch 0, batch 220, loss = 0.10529561340808868\n",
      "epoch 0, batch 230, loss = 0.05736243724822998\n",
      "epoch 1, batch 0, loss = 0.0646967738866806\n",
      "epoch 1, batch 10, loss = 0.04319088160991669\n",
      "epoch 1, batch 20, loss = 0.13867855072021484\n",
      "epoch 1, batch 30, loss = 0.16493237018585205\n",
      "epoch 1, batch 40, loss = 0.10596098005771637\n",
      "epoch 1, batch 50, loss = 0.04061390087008476\n",
      "epoch 1, batch 60, loss = 0.09367161244153976\n",
      "epoch 1, batch 70, loss = 0.07391238957643509\n",
      "epoch 1, batch 80, loss = 0.05035220459103584\n",
      "epoch 1, batch 90, loss = 0.04753682762384415\n",
      "epoch 1, batch 100, loss = 0.028564397245645523\n",
      "epoch 1, batch 110, loss = 0.051745735108852386\n",
      "epoch 1, batch 120, loss = 0.02660718932747841\n",
      "epoch 1, batch 130, loss = 0.04076862335205078\n",
      "epoch 1, batch 140, loss = 0.07553141564130783\n",
      "epoch 1, batch 150, loss = 0.041663553565740585\n",
      "epoch 1, batch 160, loss = 0.024031443521380424\n",
      "epoch 1, batch 170, loss = 0.06195107102394104\n",
      "epoch 1, batch 180, loss = 0.07123243063688278\n",
      "epoch 1, batch 190, loss = 0.03519624099135399\n",
      "epoch 1, batch 200, loss = 0.06464514881372452\n",
      "epoch 1, batch 210, loss = 0.020400313660502434\n",
      "epoch 1, batch 220, loss = 0.07861524075269699\n",
      "epoch 1, batch 230, loss = 0.0499986968934536\n",
      "epoch 2, batch 0, loss = 0.05004822462797165\n",
      "epoch 2, batch 10, loss = 0.07882887125015259\n",
      "epoch 2, batch 20, loss = 0.05943873152136803\n",
      "epoch 2, batch 30, loss = 0.03359048068523407\n",
      "epoch 2, batch 40, loss = 0.02070343866944313\n",
      "epoch 2, batch 50, loss = 0.04285183921456337\n",
      "epoch 2, batch 60, loss = 0.046283748000860214\n",
      "epoch 2, batch 70, loss = 0.02409273013472557\n",
      "epoch 2, batch 80, loss = 0.031012721359729767\n",
      "epoch 2, batch 90, loss = 0.047989752143621445\n",
      "epoch 2, batch 100, loss = 0.027208548039197922\n",
      "epoch 2, batch 110, loss = 0.03205711394548416\n",
      "epoch 2, batch 120, loss = 0.034982699900865555\n",
      "epoch 2, batch 130, loss = 0.0508769154548645\n",
      "epoch 2, batch 140, loss = 0.029127858579158783\n",
      "epoch 2, batch 150, loss = 0.05402771010994911\n",
      "epoch 2, batch 160, loss = 0.10313621163368225\n",
      "epoch 2, batch 170, loss = 0.037111736834049225\n",
      "epoch 2, batch 180, loss = 0.06779326498508453\n",
      "epoch 2, batch 190, loss = 0.031019501388072968\n",
      "epoch 2, batch 200, loss = 0.041659533977508545\n",
      "epoch 2, batch 210, loss = 0.010637141764163971\n",
      "epoch 2, batch 220, loss = 0.027882104739546776\n",
      "epoch 2, batch 230, loss = 0.030924098566174507\n",
      "epoch 3, batch 0, loss = 0.041824713349342346\n",
      "epoch 3, batch 10, loss = 0.03473648801445961\n",
      "epoch 3, batch 20, loss = 0.035877954214811325\n",
      "epoch 3, batch 30, loss = 0.015368951484560966\n",
      "epoch 3, batch 40, loss = 0.038277871906757355\n",
      "epoch 3, batch 50, loss = 0.030456462875008583\n",
      "epoch 3, batch 60, loss = 0.015205048024654388\n",
      "epoch 3, batch 70, loss = 0.023808401077985764\n",
      "epoch 3, batch 80, loss = 0.015985703095793724\n",
      "epoch 3, batch 90, loss = 0.029125187546014786\n",
      "epoch 3, batch 100, loss = 0.04601578786969185\n",
      "epoch 3, batch 110, loss = 0.029485339298844337\n",
      "epoch 3, batch 120, loss = 0.03171532601118088\n",
      "epoch 3, batch 130, loss = 0.06595233082771301\n",
      "epoch 3, batch 140, loss = 0.038445040583610535\n",
      "epoch 3, batch 150, loss = 0.024898534640669823\n",
      "epoch 3, batch 160, loss = 0.02621123194694519\n",
      "epoch 3, batch 170, loss = 0.027079811319708824\n",
      "epoch 3, batch 180, loss = 0.02564704418182373\n",
      "epoch 3, batch 190, loss = 0.012268372811377048\n",
      "epoch 3, batch 200, loss = 0.08178740739822388\n",
      "epoch 3, batch 210, loss = 0.02741711400449276\n",
      "epoch 3, batch 220, loss = 0.03568844497203827\n",
      "epoch 3, batch 230, loss = 0.04070395976305008\n",
      "epoch 4, batch 0, loss = 0.021376430988311768\n",
      "epoch 4, batch 10, loss = 0.08671067655086517\n",
      "epoch 4, batch 20, loss = 0.012197519652545452\n",
      "epoch 4, batch 30, loss = 0.016292665153741837\n",
      "epoch 4, batch 40, loss = 0.02019623853266239\n",
      "epoch 4, batch 50, loss = 0.04957914724946022\n",
      "epoch 4, batch 60, loss = 0.017782581970095634\n",
      "epoch 4, batch 70, loss = 0.003533291630446911\n",
      "epoch 4, batch 80, loss = 0.02508625015616417\n",
      "epoch 4, batch 90, loss = 0.01096850074827671\n",
      "epoch 4, batch 100, loss = 0.006527288351207972\n",
      "epoch 4, batch 110, loss = 0.028935760259628296\n",
      "epoch 4, batch 120, loss = 0.03076956979930401\n",
      "epoch 4, batch 130, loss = 0.00435606250539422\n",
      "epoch 4, batch 140, loss = 0.05702238902449608\n",
      "epoch 4, batch 150, loss = 0.012691531330347061\n",
      "epoch 4, batch 160, loss = 0.03799370303750038\n",
      "epoch 4, batch 170, loss = 0.015672074630856514\n",
      "epoch 4, batch 180, loss = 0.04564588516950607\n",
      "epoch 4, batch 190, loss = 0.032997630536556244\n",
      "epoch 4, batch 200, loss = 0.02309565804898739\n",
      "epoch 4, batch 210, loss = 0.030266625806689262\n",
      "epoch 4, batch 220, loss = 0.03690715879201889\n",
      "epoch 4, batch 230, loss = 0.013970527797937393\n"
     ]
    }
   ],
   "source": [
    "# 尝试对整个数据集进行训练\n",
    "for epoch in range(epochs):\n",
    "    c = 0\n",
    "    for batch, (mini_batch_x, mini_batch_y) in enumerate(loader):\n",
    "        \n",
    "        if USE_CUDA:\n",
    "            mini_batch_x = mini_batch_x.cuda()\n",
    "            mini_batch_y = mini_batch_y.cuda()\n",
    "        pred = model(mini_batch_x)\n",
    "        lossfn = torch.nn.NLLLoss()\n",
    "        loss = lossfn(torch.log(pred), mini_batch_y)\n",
    "        opt.zero_grad()\n",
    "        loss.backward()\n",
    "        opt.step()\n",
    "        if c % 10 == 0:\n",
    "            print(f\"epoch {epoch}, batch {batch}, loss = {loss.cpu().item()}\")\n",
    "        c = c + 1"
   ]
  },
  {
   "cell_type": "markdown",
   "metadata": {},
   "source": [
    "为了验证模型的效果，我们对前10个观测（即之前生成的 `smallx` 和 `smally`）进行预测。"
   ]
  },
  {
   "cell_type": "code",
   "execution_count": 15,
   "metadata": {},
   "outputs": [
    {
     "name": "stdout",
     "output_type": "stream",
     "text": [
      "[7 4 5 4 0 7 1 0 7 4]\n",
      "tensor([7, 4, 5, 4, 0, 7, 1, 0, 7, 4])\n"
     ]
    }
   ],
   "source": [
    "if USE_CUDA:\n",
    "    smallx = smallx.cuda()\n",
    "ypred = model(smallx)\n",
    "print(np.round(ypred.detach().cpu().numpy(), 3).argmax(axis=1))\n",
    "print(smally)"
   ]
  },
  {
   "cell_type": "markdown",
   "metadata": {},
   "source": [
    "如果模型搭建和训练都正常，那么每一行中概率最大的取值所在的位置应该正好对应真实的标签。"
   ]
  },
  {
   "cell_type": "markdown",
   "metadata": {},
   "source": [
    "最后，我们用模型对一些真实的手写数字图片进行预测。请你利用绘图软件（如 Windows 自带的绘图，或 Photoshop 等）准备10张正方形黑色底色的图片，每张用鼠标绘制一个数字（请使用较粗的笔划），从0到9，然后以0.png，1.png等文件名存储下来，放到当前目录一个名为 digits 的文件夹中。以下是几个例子：\n",
    "![](digits/sample0.png) ![](digits/sample5.png) ![](digits/sample8.png)"
   ]
  },
  {
   "cell_type": "markdown",
   "metadata": {},
   "source": [
    "接下来利用 Pillow 软件包读取图片："
   ]
  },
  {
   "cell_type": "code",
   "execution_count": 16,
   "metadata": {
    "scrolled": true
   },
   "outputs": [
    {
     "data": {
      "image/png": "[encoded data removed]",
      "text/plain": [
       "<PIL.PngImagePlugin.PngImageFile image mode=RGB size=261x261 at 0x21B04C4D2E0>"
      ]
     },
     "execution_count": 16,
     "metadata": {},
     "output_type": "execute_result"
    }
   ],
   "source": [
    "from PIL import Image\n",
    "im = Image.open(\"digits/sample0.png\")\n",
    "im"
   ]
  },
  {
   "cell_type": "markdown",
   "metadata": {},
   "source": [
    "此时如果直接将其转为 Numpy 数组会得到三个通道："
   ]
  },
  {
   "cell_type": "code",
   "execution_count": 17,
   "metadata": {},
   "outputs": [
    {
     "name": "stdout",
     "output_type": "stream",
     "text": [
      "(261, 261, 3)\n"
     ]
    }
   ],
   "source": [
    "im_arr = np.array(im)\n",
    "print(im_arr.shape)"
   ]
  },
  {
   "cell_type": "markdown",
   "metadata": {},
   "source": [
    "因此，我们先强制转换为灰度图片（单通道），再缩放至模型的图片大小 28 x 28："
   ]
  },
  {
   "cell_type": "code",
   "execution_count": 18,
   "metadata": {},
   "outputs": [
    {
     "name": "stdout",
     "output_type": "stream",
     "text": [
      "(28, 28)\n"
     ]
    },
    {
     "data": {
      "image/png": "[encoded data removed]",
      "text/plain": [
       "<PIL.Image.Image image mode=L size=28x28 at 0x21B6DAECF40>"
      ]
     },
     "execution_count": 18,
     "metadata": {},
     "output_type": "execute_result"
    }
   ],
   "source": [
    "im = im.convert(\"L\")\n",
    "im.thumbnail((28, 28))\n",
    "im_arr = np.array(im)\n",
    "print(im_arr.shape)\n",
    "im"
   ]
  },
  {
   "cell_type": "markdown",
   "metadata": {},
   "source": [
    "为了传递给模型对象，还需要先将数值归一化到 [0,1] 区间，转换为 PyTorch 的 Tensor 类型，并增加一个批次和一个通道的维度："
   ]
  },
  {
   "cell_type": "code",
   "execution_count": 19,
   "metadata": {},
   "outputs": [
    {
     "name": "stdout",
     "output_type": "stream",
     "text": [
      "torch.Size([1, 1, 28, 28])\n"
     ]
    }
   ],
   "source": [
    "test0 = torch.tensor(im_arr / 255.0, dtype=torch.float32).view(1, 1, 28, 28)\n",
    "print(test0.shape)"
   ]
  },
  {
   "cell_type": "markdown",
   "metadata": {},
   "source": [
    "最后对图片标签进行预测："
   ]
  },
  {
   "cell_type": "code",
   "execution_count": 22,
   "metadata": {},
   "outputs": [
    {
     "name": "stdout",
     "output_type": "stream",
     "text": [
      "[[0.378 0.    0.012 0.    0.    0.    0.001 0.    0.014 0.595]]\n"
     ]
    }
   ],
   "source": [
    "if USE_CUDA:\n",
    "    test0 = test0.cuda()\n",
    "pred0 = model(test0)\n",
    "print(np.round(pred0.detach().cpu().numpy(), 3)) # 咋就预测错了啊"
   ]
  },
  {
   "cell_type": "markdown",
   "metadata": {},
   "source": [
    "预测结果是否符合真实情形？请对你自己绘制出的10张图片进行类似的预测操作，并评价其效果。"
   ]
  },
  {
   "cell_type": "code",
   "execution_count": 25,
   "metadata": {},
   "outputs": [],
   "source": [
    "def predict(char):\n",
    "    im = Image.open(\"digits/\"+char+\".png\")\n",
    "    im = im.convert(\"L\")\n",
    "    im.thumbnail((28, 28))\n",
    "    im_arr = np.array(im)\n",
    "    test0 = torch.tensor(im_arr / 255.0, dtype=torch.float32).view(1, 1, 28, 28)\n",
    "    if USE_CUDA:\n",
    "        test0 = test0.cuda()\n",
    "    pred0 = model(test0)\n",
    "    return np.round(pred0.detach().cpu().numpy(), 3).argmax()"
   ]
  },
  {
   "cell_type": "code",
   "execution_count": 34,
   "metadata": {},
   "outputs": [
    {
     "name": "stdout",
     "output_type": "stream",
     "text": [
      "0 √\n",
      "1 √\n",
      "2 √\n",
      "3 √\n",
      "4 √\n",
      "5 √\n",
      "6 √\n",
      "7 √\n",
      "8 √\n",
      "9 × 4\n"
     ]
    }
   ],
   "source": [
    "for i in range(10):\n",
    "    if i == predict(str(i)):\n",
    "        print(i, '√')\n",
    "    else:\n",
    "        print(i, '×', predict(str(i)))"
   ]
  },
  {
   "cell_type": "markdown",
   "metadata": {},
   "source": [
    "10个预测对了9个 还行吧"
   ]
  },
  {
   "cell_type": "markdown",
   "metadata": {},
   "source": [
    "### 第2题"
   ]
  },
  {
   "cell_type": "markdown",
   "metadata": {},
   "source": [
    "1. 目标：通过对英文名数据进行训练，构建一个 RNN 模型，实现英文名的自动生成。"
   ]
  },
  {
   "cell_type": "markdown",
   "metadata": {},
   "source": [
    "2. 主要步骤：获取和整理数据，对字符串进行 one-hot 编码，创建模型结构，定义损失函数，编写训练循环，最后生成人名字符串。"
   ]
  },
  {
   "cell_type": "markdown",
   "metadata": {},
   "source": [
    "3. 获取和整理数据。数据文件已存为 `data/names.txt`，先将其读取为字符串列表："
   ]
  },
  {
   "cell_type": "code",
   "execution_count": 12,
   "metadata": {},
   "outputs": [
    {
     "name": "stdout",
     "output_type": "stream",
     "text": [
      "3668\n",
      "['Abbas', 'Abbey', 'Abbott', 'Abdi', 'Abel']\n"
     ]
    }
   ],
   "source": [
    "import io\n",
    "lines = io.open(\"data/names.txt\").read().strip().split('\\n')\n",
    "print(len(lines))\n",
    "print(lines[0:5])"
   ]
  },
  {
   "cell_type": "markdown",
   "metadata": {},
   "source": [
    "可以看出，共读取了3668个名字。为了简单起见，我们将所有的大写字母转换为小写。"
   ]
  },
  {
   "cell_type": "code",
   "execution_count": 13,
   "metadata": {},
   "outputs": [
    {
     "name": "stdout",
     "output_type": "stream",
     "text": [
      "['abbas', 'abbey', 'abbott', 'abdi', 'abel']\n"
     ]
    }
   ],
   "source": [
    "names = [s.lower() for s in lines]\n",
    "print(names[0:5])"
   ]
  },
  {
   "cell_type": "markdown",
   "metadata": {},
   "source": [
    "接下来我们需要构建一个字符的字典。对于英文名来说很简单，即26个字母。我们可以通过下面的代码直接得到。"
   ]
  },
  {
   "cell_type": "code",
   "execution_count": 36,
   "metadata": {},
   "outputs": [
    {
     "data": {
      "text/plain": [
       "'abcdefghijklmnopqrstuvwxyz'"
      ]
     },
     "execution_count": 36,
     "metadata": {},
     "output_type": "execute_result"
    }
   ],
   "source": [
    "import string\n",
    "dict = string.ascii_lowercase\n",
    "dict"
   ]
  },
  {
   "cell_type": "markdown",
   "metadata": {},
   "source": [
    "4. 下面准备好 one-hot 编码所需的函数。编写函数 `char2index(char)`，将一个字母转换为其所在字典的位置。例如 `char2index(\"a\")` 要返回0，`char2index(\"z\")` 要返回25，等等。提示：使用字符串的 `.find()` 函数。"
   ]
  },
  {
   "cell_type": "code",
   "execution_count": 37,
   "metadata": {},
   "outputs": [
    {
     "name": "stdout",
     "output_type": "stream",
     "text": [
      "True\n"
     ]
    }
   ],
   "source": [
    "def char2index(char):\n",
    "    # Implementation here\n",
    "    L = [x for x in dict]\n",
    "    return L.index(char)\n",
    "print(char2index(\"z\") == 25)"
   ]
  },
  {
   "cell_type": "markdown",
   "metadata": {},
   "source": [
    "编写 `char2tensor(char)` 函数，将一个字母转换为 one-hot 向量，即该向量中第 i 个元素为1，其余为0，其中 i 表示该字母在字典中的位置。\n",
    "\n",
    "**注意，该向量的长度应为27，因为我们要预留终止符，用 `[0.0, 0.0, ..., 1.0]` 表示**。\n",
    "\n",
    "`char2tensor(\"a\")` 应返回 `torch.tensor([1.0, 0.0, ...])`，`char2tensor(\"z\")` 应返回 `torch.tensor([0.0, ..., 1.0, 0.0])`。"
   ]
  },
  {
   "cell_type": "code",
   "execution_count": 38,
   "metadata": {},
   "outputs": [
    {
     "name": "stdout",
     "output_type": "stream",
     "text": [
      "tensor([1., 0., 0., 0., 0., 0., 0., 0., 0., 0., 0., 0., 0., 0., 0., 0., 0., 0.,\n",
      "        0., 0., 0., 0., 0., 0., 0., 0., 0.])\n",
      "tensor([0., 0., 0., 0., 0., 0., 0., 0., 0., 0., 0., 0., 0., 0., 0., 0., 0., 0.,\n",
      "        0., 0., 0., 0., 0., 0., 0., 1., 0.])\n",
      "True\n"
     ]
    }
   ],
   "source": [
    "def char2tensor(char):\n",
    "    # Implementation here\n",
    "    i = char2index(char)\n",
    "    res = torch.zeros(27)\n",
    "    res[i] = 1\n",
    "    return res\n",
    "\n",
    "print(char2tensor(\"a\"))\n",
    "print(char2tensor(\"z\"))\n",
    "print(char2tensor(\"z\").shape[0] == 27)"
   ]
  },
  {
   "cell_type": "markdown",
   "metadata": {},
   "source": [
    "5. 构建模型。我们使用最简单的 RNN 结构，即隐藏单元是输入和上一期隐藏单元的线性变换加上 Tanh 激活函数，输出单元是隐藏单元的线性变换加上 Softmax 激活函数。输出的结果代表下一个字符的概率分布。"
   ]
  },
  {
   "cell_type": "markdown",
   "metadata": {},
   "source": [
    "```py\n",
    "class RNN(torch.nn.Module):\n",
    "    def __init__(self, input_size, hidden_size):\n",
    "        super(RNN, self).__init__()\n",
    "        self.hidden_size = hidden_size\n",
    "        self.i2h = ...\n",
    "        self.h2o = ...\n",
    "\n",
    "    def forward(self, input, hidden):\n",
    "        combined = torch.cat((input, hidden), dim=1)\n",
    "        hidden = torch.tanh(self.i2h(combined))\n",
    "        output = torch.nn.functional.softmax(self.h2o(hidden), dim=1)\n",
    "        return output, hidden\n",
    "\n",
    "    def init_hidden(self):\n",
    "        return torch.zeros(1, self.hidden_size)\n",
    "```"
   ]
  },
  {
   "cell_type": "code",
   "execution_count": 103,
   "metadata": {},
   "outputs": [],
   "source": [
    "import torch.nn.functional as F\n",
    "class RNN(torch.nn.Module):\n",
    "    def __init__(self, input_size, hidden_size):\n",
    "        super(RNN, self).__init__()\n",
    "        self.hidden_size = hidden_size\n",
    "        self.i2h = torch.nn.Linear(input_size + hidden_size, hidden_size)\n",
    "        self.h2o = torch.nn.Linear(hidden_size, 27)\n",
    "\n",
    "    def forward(self, input, hidden):\n",
    "        combined = torch.cat((input, hidden), dim=1)\n",
    "        hidden = torch.tanh(self.i2h(combined))\n",
    "        output = F.softmax(self.h2o(hidden), dim=1)\n",
    "        return output, hidden\n",
    "\n",
    "    def init_hidden(self):\n",
    "        return torch.zeros(1, self.hidden_size)"
   ]
  },
  {
   "cell_type": "markdown",
   "metadata": {},
   "source": [
    "我们做一个简单的测试。请在下面的代码中加入适当的语句，使得每次运行的结果不变。根据其输出结果，请问当前模型预测字符a的下一个字符是什么？为什么？"
   ]
  },
  {
   "cell_type": "code",
   "execution_count": 105,
   "metadata": {},
   "outputs": [
    {
     "name": "stdout",
     "output_type": "stream",
     "text": [
      "tensor([[0.0336, 0.0420, 0.0510, 0.0242, 0.0500, 0.0357, 0.0405, 0.0442, 0.0254,\n",
      "         0.0333, 0.0304, 0.0328, 0.0396, 0.0357, 0.0479, 0.0371, 0.0337, 0.0378,\n",
      "         0.0270, 0.0385, 0.0341, 0.0280, 0.0446, 0.0267, 0.0552, 0.0335, 0.0375]],\n",
      "       grad_fn=<SoftmaxBackward>)\n",
      "tensor([[ 0.0961,  0.0921,  0.1905, -0.1968, -0.2113, -0.0643, -0.0733,  0.0382,\n",
      "         -0.1906,  0.2574]], grad_fn=<TanhBackward>)\n"
     ]
    }
   ],
   "source": [
    "batch_size = 100\n",
    "rnn = RNN(input_size=27, hidden_size=10)\n",
    "input = char2tensor(\"a\")\n",
    "hidden = rnn.init_hidden()\n",
    "output, hidden = rnn(input.view(1, 27), hidden)\n",
    "print(output)\n",
    "print(hidden)"
   ]
  },
  {
   "cell_type": "markdown",
   "metadata": {},
   "source": [
    "6. 接下来我们定义好损失函数。与第1题中类似，预测值是一个概率分布，而真实的标签是0到26中的一个整数，代表真实的下一个字符在字典中的位置。假设当前处理的名字为\"abel\"，那么字符a的输出结果对应的标签是什么？请完成下面的代码。"
   ]
  },
  {
   "cell_type": "code",
   "execution_count": 125,
   "metadata": {
    "scrolled": true
   },
   "outputs": [
    {
     "name": "stdout",
     "output_type": "stream",
     "text": [
      "tensor(3.2844, grad_fn=<NllLossBackward>)\n"
     ]
    }
   ],
   "source": [
    "# Change \"target\" to a proper value\n",
    "target = char2index('b')\n",
    "\n",
    "lossfn = torch.nn.NLLLoss()\n",
    "loss = lossfn(torch.log(output), torch.tensor([target]))\n",
    "\n",
    "print(loss)"
   ]
  },
  {
   "cell_type": "markdown",
   "metadata": {},
   "source": [
    "7. 明确单个字符的损失函数的计算方法后，请在下面计算出\"abel\"这个观测整体的损失函数值。"
   ]
  },
  {
   "cell_type": "code",
   "execution_count": 127,
   "metadata": {},
   "outputs": [
    {
     "name": "stdout",
     "output_type": "stream",
     "text": [
      "tensor(3.2122, grad_fn=<DivBackward0>)\n"
     ]
    }
   ],
   "source": [
    "s = 'abel'\n",
    "loss_total = 0\n",
    "for i in range(len(s)):\n",
    "    input = char2tensor(s[i])\n",
    "    output, hidden = rnn(input.view(1, 27), hidden)\n",
    "    lossfn = torch.nn.NLLLoss()\n",
    "    if i < len(s) - 1:\n",
    "        target = char2index(s[i+1])\n",
    "    else:\n",
    "        target = 26\n",
    "    loss = lossfn(torch.log(output),  torch.tensor([target]))\n",
    "    loss_total += loss\n",
    "print(loss_total / len(s))"
   ]
  },
  {
   "cell_type": "markdown",
   "metadata": {},
   "source": [
    "8. 将上述过程在数据上进行反复迭代，训练模型。"
   ]
  },
  {
   "cell_type": "code",
   "execution_count": 165,
   "metadata": {
    "scrolled": true
   },
   "outputs": [
    {
     "name": "stdout",
     "output_type": "stream",
     "text": [
      "epoch 0, obs 0, loss = 3.4540889263153076\n",
      "epoch 0, obs 1000, loss = 2.8366057872772217\n",
      "epoch 0, obs 2000, loss = 2.4300575256347656\n",
      "epoch 0, obs 3000, loss = 3.048856258392334\n",
      "epoch 1, obs 0, loss = 2.5849227905273438\n",
      "epoch 1, obs 1000, loss = 2.9202523231506348\n",
      "epoch 1, obs 2000, loss = 2.702969789505005\n",
      "epoch 1, obs 3000, loss = 2.8069956302642822\n",
      "epoch 2, obs 0, loss = 2.5954341888427734\n",
      "epoch 2, obs 1000, loss = 2.741037368774414\n",
      "epoch 2, obs 2000, loss = 2.4662723541259766\n",
      "epoch 2, obs 3000, loss = 2.659942865371704\n",
      "epoch 3, obs 0, loss = 2.2126433849334717\n",
      "epoch 3, obs 1000, loss = 2.5628905296325684\n",
      "epoch 3, obs 2000, loss = 2.670682668685913\n",
      "epoch 3, obs 3000, loss = 2.282076835632324\n",
      "epoch 4, obs 0, loss = 1.9930793046951294\n",
      "epoch 4, obs 1000, loss = 2.4839320182800293\n",
      "epoch 4, obs 2000, loss = 2.4460690021514893\n",
      "epoch 4, obs 3000, loss = 2.006101131439209\n",
      "epoch 5, obs 0, loss = 2.281656503677368\n",
      "epoch 5, obs 1000, loss = 2.3046836853027344\n",
      "epoch 5, obs 2000, loss = 1.81855309009552\n",
      "epoch 5, obs 3000, loss = 2.5893585681915283\n",
      "epoch 6, obs 0, loss = 2.872056722640991\n",
      "epoch 6, obs 1000, loss = 2.443704605102539\n",
      "epoch 6, obs 2000, loss = 2.0486111640930176\n",
      "epoch 6, obs 3000, loss = 2.52988338470459\n",
      "epoch 7, obs 0, loss = 1.8422807455062866\n",
      "epoch 7, obs 1000, loss = 2.538722276687622\n",
      "epoch 7, obs 2000, loss = 2.3238301277160645\n",
      "epoch 7, obs 3000, loss = 2.4624056816101074\n",
      "epoch 8, obs 0, loss = 2.5095160007476807\n",
      "epoch 8, obs 1000, loss = 2.0668163299560547\n",
      "epoch 8, obs 2000, loss = 2.2010812759399414\n",
      "epoch 8, obs 3000, loss = 2.33699369430542\n",
      "epoch 9, obs 0, loss = 2.0276927947998047\n",
      "epoch 9, obs 1000, loss = 1.5072970390319824\n",
      "epoch 9, obs 2000, loss = 2.378427505493164\n",
      "epoch 9, obs 3000, loss = 2.3397088050842285\n"
     ]
    }
   ],
   "source": [
    "np.random.seed(2333)\n",
    "torch.random.manual_seed(2333)\n",
    "\n",
    "n = len(names)\n",
    "n_hidden = 16\n",
    "n_input = 27\n",
    "nepoch = 10\n",
    "\n",
    "rnn = RNN(n_input, n_hidden)\n",
    "opt = torch.optim.Adam(rnn.parameters(), lr=0.0001)\n",
    "train_ind = np.arange(n)\n",
    "losses = []\n",
    "\n",
    "lossfn = torch.nn.NLLLoss()\n",
    "\n",
    "# Loop over epochs\n",
    "for k in range(nepoch):\n",
    "    # Shuffle the data\n",
    "    np.random.shuffle(train_ind)\n",
    "    # Loop over observations. Each observation is a name\n",
    "    for i in range(n):\n",
    "        name = names[train_ind[i]]\n",
    "        nchar = len(name)\n",
    "        # Loop over the characters in the name\n",
    "        # Each input character has a target, which is the index of the next character in the dictionary\n",
    "        # For the last character in the name, the target is the end-of-sequence symbol, which has index 26\n",
    "        loss_total = 0\n",
    "        hidden = rnn.init_hidden()\n",
    "        for j in range(nchar):\n",
    "            input = char2tensor(name[j])\n",
    "            output, hidden = rnn(input.view(1, 27), hidden)\n",
    "            lossfn = torch.nn.NLLLoss()\n",
    "            if j < nchar - 1:\n",
    "                target = char2index(name[j + 1])\n",
    "            else:\n",
    "                target = 26\n",
    "            loss = lossfn(torch.log(output),  torch.tensor([target]))\n",
    "            loss_total += loss\n",
    "        loss = loss_total / nchar\n",
    "        \n",
    "#         for j in range(nchar):\n",
    "#             input = char2tensor(name[j])\n",
    "#             output, hidden = rnn(input.view(1, n_input), hidden)\n",
    "\n",
    "#             if j == nchar - 1:\n",
    "#                 target = 26\n",
    "#             else:\n",
    "#                 target = char2index(name[j + 1])\n",
    "\n",
    "#             loss = loss + lossfn(torch.log(output), torch.tensor([target]))\n",
    "    \n",
    "#         loss = loss / nchar\n",
    "\n",
    "        opt.zero_grad()\n",
    "        loss.backward()\n",
    "        opt.step()\n",
    "\n",
    "        losses.append(loss.item())\n",
    "        if i % 1000 == 0:\n",
    "            print(f\"epoch {k}, obs {i}, loss = {loss.item()}\")"
   ]
  },
  {
   "cell_type": "code",
   "execution_count": 167,
   "metadata": {},
   "outputs": [
    {
     "data": {
      "text/plain": [
       "[<matplotlib.lines.Line2D at 0x21b099b9670>]"
      ]
     },
     "execution_count": 167,
     "metadata": {},
     "output_type": "execute_result"
    },
    {
     "data": {
      "image/png": "[encoded data removed]",
      "text/plain": [
       "<Figure size 432x288 with 1 Axes>"
      ]
     },
     "metadata": {
      "needs_background": "light"
     },
     "output_type": "display_data"
    }
   ],
   "source": [
    "import matplotlib.pyplot as plt\n",
    "plt.plot(losses)"
   ]
  },
  {
   "cell_type": "markdown",
   "metadata": {},
   "source": [
    "9. 编写一个函数 `random_first_letter()`，它随机返回字典中的一个字符，我们将利用它来随机生成第一个字符。"
   ]
  },
  {
   "cell_type": "code",
   "execution_count": 168,
   "metadata": {},
   "outputs": [
    {
     "name": "stdout",
     "output_type": "stream",
     "text": [
      "t\n",
      "i\n",
      "r\n"
     ]
    }
   ],
   "source": [
    "def random_first_letter():\n",
    "    # Implementation here\n",
    "    x = np.random.randint(0, 26)\n",
    "    return dict[x]\n",
    "\n",
    "print(random_first_letter())\n",
    "print(random_first_letter())\n",
    "print(random_first_letter())"
   ]
  },
  {
   "cell_type": "markdown",
   "metadata": {},
   "source": [
    "请简要说明如下的代码的含义（可以在代码中加入注释），然后利用它随机生成10个名字。评价生成的结果，并简要说明可以如何改进模型的效果？"
   ]
  },
  {
   "cell_type": "code",
   "execution_count": 175,
   "metadata": {
    "scrolled": true
   },
   "outputs": [
    {
     "name": "stdout",
     "output_type": "stream",
     "text": [
      "eren\n",
      "panle\n",
      "uren\n",
      "tanlen\n",
      "inlen\n",
      "uren\n",
      "wanle\n",
      "panle\n",
      "nanle\n",
      "janlen\n"
     ]
    }
   ],
   "source": [
    "def random_name(max_len=20):\n",
    "    rnn.eval()\n",
    "    first_letter = random_first_letter() # 随机选取第一个字母\n",
    "    char_ind = [char2index(first_letter)] \n",
    "    input = char2tensor(first_letter) # 将第一个字母转化为tensor 输入模型\n",
    "    hidden = rnn.init_hidden()\n",
    "    for i in range(max_len - 1):\n",
    "        output, hidden = rnn(input.view(1, n_input), hidden)\n",
    "        ind = torch.argmax(output).item() # 下一个可能最大的字母的序号\n",
    "        if ind == 26: # 如果下一个为终止符，则结束生成\n",
    "            break\n",
    "        char_ind.append(ind) # 保存下一个可能最大的字母\n",
    "        input.zero_()\n",
    "        input[ind] = 1.0\n",
    "    return \"\".join([dict[i] for i in char_ind]) # 把 序号转化为字母并且拼接为字符串输出\n",
    "\n",
    "for i in range(10): print(random_name())"
   ]
  },
  {
   "cell_type": "markdown",
   "metadata": {},
   "source": [
    "### 第3题"
   ]
  },
  {
   "cell_type": "markdown",
   "metadata": {},
   "source": [
    "利用卷积函数实现任意大整数的乘法。给定两个整数，如 183612 和 23333，用两个列表表达它们的序列："
   ]
  },
  {
   "cell_type": "code",
   "execution_count": 176,
   "metadata": {},
   "outputs": [],
   "source": [
    "n1 = [1, 8, 3, 6, 1, 2]\n",
    "n2 = [2, 3, 3, 3, 3]"
   ]
  },
  {
   "cell_type": "markdown",
   "metadata": {},
   "source": [
    "请编写一个函数 `integer_mult(n1, n2)`，返回 `n1 * n2` 对应的整数序列。注意不要直接调用乘法表达式（设想有两个非常大的整数，直接相乘可能会导致数值溢出）。"
   ]
  },
  {
   "cell_type": "code",
   "execution_count": 203,
   "metadata": {},
   "outputs": [
    {
     "name": "stdout",
     "output_type": "stream",
     "text": [
      "True\n"
     ]
    }
   ],
   "source": [
    "def integer_mult(n1, n2):\n",
    "    L = list(np.convolve(n1,n2))[::-1]\n",
    "    rem = 0\n",
    "    for i in range(len(L)):\n",
    "        L[i] = L[i] + rem\n",
    "        if L[i] > 10:\n",
    "            rem = int(str(L[i])[0])\n",
    "            L[i] = int(str(L[i])[1])\n",
    "    return L[::-1]\n",
    "\n",
    "res = integer_mult(n1, n2)\n",
    "print(res == [4, 2, 8, 4, 2, 1, 8, 7, 9, 6])"
   ]
  },
  {
   "cell_type": "markdown",
   "metadata": {},
   "source": [
    "思路："
   ]
  },
  {
   "cell_type": "markdown",
   "metadata": {},
   "source": [
    "1. 先实现多项式的乘法。例如，给定 $p(x)=1+2x+x^4$ 和 $q(x)=x+3x^2+5x^3$，计算 $r(x)=p(x)q(x)$。我们将 $p(x)$ 编码为 `p = [1, 2, 0, 0, 1]`，$q(x)$ 编码为 `q = [0, 1, 3, 5]`，请编写函数 `poly_mult(p, q)`，使得 `poly_mult(p, q) == [0, 1, 5, 11, 10, 1, 3, 5]`。"
   ]
  },
  {
   "cell_type": "code",
   "execution_count": 226,
   "metadata": {},
   "outputs": [
    {
     "name": "stdout",
     "output_type": "stream",
     "text": [
      "True\n"
     ]
    }
   ],
   "source": [
    "p = [1, 2, 0, 0, 1]\n",
    "q = [0, 1, 3, 5]\n",
    "\n",
    "# def poly_mult(p, q):\n",
    "#     # Implementation here\n",
    "#     return list(np.convolve(p,q))\n",
    "\n",
    "def poly_mult(p, q):\n",
    "    # Implementation here\n",
    "    n = len(p)\n",
    "    m = len(q)\n",
    "    L = np.array(p).reshape(-1,1).dot(np.array(q).reshape(1,-1))\n",
    "    res = [0] * (len(p) + len(q) - 1)\n",
    "    for i in range(n):\n",
    "        for j in range(m):\n",
    "            res[i + j] += L[i, j]\n",
    "    return res\n",
    "\n",
    "print(poly_mult(p, q) == [0, 1, 5, 11, 10, 1, 3, 5])"
   ]
  },
  {
   "cell_type": "markdown",
   "metadata": {},
   "source": [
    "2. 对于任意的一个整数，将其看成是某个多项式在 $x=10$ 处的取值，如 $123 = p_1(10)$，$p_1(x)=3+2x+x^2$，$5310 = p_2(10)$，$p_2(x)=x+3x^2+5x^3$，注意需要适当将序列反序。因此，要计算 $123\\times 5310$，相当于计算 $r(10)$ 的值，但为了避免直接进行乘法运算（防止溢出），可以先计算 $r(x)$ 的表达式（等价于其系数向量），然后建立起 $r(x)$ 的系数与 $r(10)$ 之间的联系（见如下第3点）。"
   ]
  },
  {
   "cell_type": "markdown",
   "metadata": {},
   "source": [
    "3. 如果一个多项式 $r(x)$ 所有的系数都是0到9之间的整数，那么 $r(x)$ 和 $r(10)$ 的关系非常直接，比如若 $r(x)=1+2x+5x^2+3x^3$，则 $r(10)=3521$。但如果有系数超过10，就需要考虑进位的影响，比如 $r(x)=1+11x+2x^2$，$r(10)=311$。此时可以从 $r(x)$ 的第一项开始逐项进位，构造一个新的多项式 $r'(x)=1+x+3x^2$，满足 $r'(10)=r(10)$，且 $r'(x)$ 所有的系数都不超过10。 "
   ]
  },
  {
   "cell_type": "markdown",
   "metadata": {},
   "source": [
    "4. 综合利用以上信息，完成本题的算法编写。并测试 23742389754298365 * 809723950 的结果。"
   ]
  },
  {
   "cell_type": "code",
   "execution_count": 213,
   "metadata": {},
   "outputs": [
    {
     "name": "stdout",
     "output_type": "stream",
     "text": [
      "9214025846297658050701750\n"
     ]
    }
   ],
   "source": [
    "l1 = [int(x) for x in '23742389754298365']\n",
    "l2 = [int(x) for x in '809723950']\n",
    "print(''.join([str(x) for x in integer_mult(l1, l2)]))"
   ]
  }
 ],
 "metadata": {
  "kernelspec": {
   "display_name": "Python [conda env:pytorch_GPU]",
   "language": "python",
   "name": "conda-env-pytorch_GPU-py"
  },
  "language_info": {
   "codemirror_mode": {
    "name": "ipython",
    "version": 3
   },
   "file_extension": ".py",
   "mimetype": "text/x-python",
   "name": "python",
   "nbconvert_exporter": "python",
   "pygments_lexer": "ipython3",
   "version": "3.9.2"
  }
 },
 "nbformat": 4,
 "nbformat_minor": 5
}
