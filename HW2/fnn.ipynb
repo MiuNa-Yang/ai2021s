{
 "cells": [
  {
   "cell_type": "markdown",
   "metadata": {},
   "source": [
    "# 作业2：纯天然手工制作神经网络"
   ]
  },
  {
   "cell_type": "markdown",
   "metadata": {},
   "source": [
    "本次作业中，你将体验到如何用最基本的矩阵运算来实现一个前馈神经网络。在该实现中，唯一需要使用到的软件包是Numpy。"
   ]
  },
  {
   "cell_type": "markdown",
   "metadata": {},
   "source": [
    "### 第1题"
   ]
  },
  {
   "cell_type": "markdown",
   "metadata": {},
   "source": [
    "利用 Git 的基本操作，对第一次作业进行一次修订。具体要求如下：\n",
    "\n",
    "1. 将库的名称统一为 “ai2021s”。\n",
    "2. 在库的根目录创建文件夹 `HW1`，将第一次作业提交的 Notebook 文件重命名为 `numpy_practice.ipynb`，并移至 `HW1` 文件夹中。\n",
    "3. 提交这一修改，提交信息为 “reorganizing project files”。\n",
    "4. 从本次作业起，均按上述规则建立文件夹。本次作业的文件名为`fnn.ipynb`。\n",
    "5. 优化作业1中各函数的编写，直接对原始文件修改并利用 Git 命令提交。根据本次修改的结果，你将对作业1获得最多20分的加分。"
   ]
  },
  {
   "cell_type": "markdown",
   "metadata": {},
   "source": [
    "### 第2题"
   ]
  },
  {
   "cell_type": "markdown",
   "metadata": {},
   "source": [
    "(a) 根据作业1的内容，编写**数值稳定**的函数 `sigmoid(x)` 和 `softplus(x)`，要求它适用于 Numpy 向量和矩阵，即当 `x` 是一维或二维数组时，返回一个相同大小和形状的数组。"
   ]
  },
  {
   "cell_type": "code",
   "execution_count": 2,
   "metadata": {},
   "outputs": [],
   "source": [
    "import numpy as np"
   ]
  },
  {
   "cell_type": "code",
   "execution_count": 3,
   "metadata": {},
   "outputs": [
    {
     "name": "stdout",
     "output_type": "stream",
     "text": [
      "Sigmoid(v) =\n",
      " [0.25244196 0.73053634 0.57027629 0.18148857 0.35925474 0.83908511]\n",
      "Sigmoid(m) =\n",
      " [[0.08116076 0.39438602 0.78004631]\n",
      " [0.29593301 0.33650995 0.47634044]\n",
      " [0.81628676 0.34549479 0.39079256]\n",
      " [0.39308777 0.90078077 0.89905661]\n",
      " [0.73185488 0.59536432 0.67642017]]\n",
      "Softplus(v) =\n",
      " [0.29094333 1.31132175 0.84461281 0.20026791 0.44512331 1.82687967]\n",
      "Softplus(m) =\n",
      " [[0.08464411 0.50151249 1.51433825]\n",
      " [0.35088177 0.41024142 0.6469135 ]\n",
      " [1.69437919 0.42387573 0.49559644]\n",
      " [0.49937109 2.31042345 2.29319537]\n",
      " [1.31622694 0.90476816 1.12830942]]\n"
     ]
    }
   ],
   "source": [
    "np.set_printoptions(linewidth=100) \n",
    "\n",
    "def sigmoid(x):\n",
    "    \n",
    "    res = np.zeros_like(x)\n",
    "    fenzi = np.where(x >= 0, 1, np.exp(x))\n",
    "    fenmu = 1 + np.exp(-abs(x))\n",
    "    res = fenzi/fenmu\n",
    "    \n",
    "    return res\n",
    "\n",
    "def softplus(x):\n",
    "    \n",
    "    res = np.zeros_like(x)\n",
    "    part1 = np.where(x >= 0, x, 0)\n",
    "    part2 = np.log(1 + np.exp(-abs(x)))\n",
    "    res = part1 + part2\n",
    "    \n",
    "    return res\n",
    "\n",
    "np.random.seed(123)\n",
    "vec = np.random.normal(size=6)\n",
    "mat = np.random.normal(size=(5, 3))\n",
    "print(\"Sigmoid(v) =\\n\", sigmoid(vec))\n",
    "print(\"Sigmoid(m) =\\n\", sigmoid(mat))\n",
    "print(\"Softplus(v) =\\n\", softplus(vec))\n",
    "print(\"Softplus(m) =\\n\", softplus(mat))"
   ]
  },
  {
   "cell_type": "markdown",
   "metadata": {},
   "source": [
    "(b) 推导 Sigmoid 和 Softplus 函数的导数，编写**数值稳定**的函数 `d_sigmoid(x)` 和 `d_softplus(x)` 计算对应的导数，同样要求适用于向量和矩阵。"
   ]
  },
  {
   "cell_type": "markdown",
   "metadata": {},
   "source": [
    "$\\sigma(x)=1/(1+\\exp(-x)),\\ \\sigma'(x)=...$\n",
    "\n",
    "$\\mathrm{softplus}(x)=\\log(1+\\exp(x)),\\ \\mathrm{softplus}'(x)=...$\n",
    "\n",
    "注意到 Sigmoid 和 Softplus 之间的联系了吗？"
   ]
  },
  {
   "cell_type": "code",
   "execution_count": 4,
   "metadata": {},
   "outputs": [
    {
     "name": "stdout",
     "output_type": "stream",
     "text": [
      "Sigmoid'(v) =\n",
      " [0.18871502 0.196853   0.24506124 0.14855047 0.23019077 0.13502129]\n",
      "Sigmoid'(m) =\n",
      " [[0.07457369 0.23884569 0.17157406]\n",
      " [0.20835666 0.223271   0.24944023]\n",
      " [0.14996269 0.22612814 0.23807373]\n",
      " [0.23856977 0.08937477 0.09075383]\n",
      " [0.19624332 0.24090565 0.21887592]]\n",
      "Softplus'(v) =\n",
      " [0.25244196 0.73053634 0.57027629 0.18148857 0.35925474 0.83908511]\n",
      "Softplus'(m) =\n",
      " [[0.08116076 0.39438602 0.78004631]\n",
      " [0.29593301 0.33650995 0.47634044]\n",
      " [0.81628676 0.34549479 0.39079256]\n",
      " [0.39308777 0.90078077 0.89905661]\n",
      " [0.73185488 0.59536432 0.67642017]]\n"
     ]
    }
   ],
   "source": [
    "def d_sigmoid(x):\n",
    "    res = np.zeros_like(x)\n",
    "    res = sigmoid(x) * (1 - sigmoid(x))\n",
    "    return res\n",
    "\n",
    "def d_softplus(x):\n",
    "    res = np.zeros_like(x)\n",
    "    res = sigmoid(x)\n",
    "    return res\n",
    "\n",
    "print(\"Sigmoid'(v) =\\n\", d_sigmoid(vec))\n",
    "print(\"Sigmoid'(m) =\\n\", d_sigmoid(mat))\n",
    "print(\"Softplus'(v) =\\n\", d_softplus(vec))\n",
    "print(\"Softplus'(m) =\\n\", d_softplus(mat))"
   ]
  },
  {
   "cell_type": "markdown",
   "metadata": {},
   "source": [
    "(c) 编写函数 `relu(x)` 和 `d_relu(x)` 来实现 ReLU 函数及其导数，$\\mathrm{ReLU}(x)=\\max(x,0)$，要求适用于向量和矩阵。对于不可导的点，可以将导数取为左导数或右导数。"
   ]
  },
  {
   "cell_type": "code",
   "execution_count": 5,
   "metadata": {},
   "outputs": [
    {
     "name": "stdout",
     "output_type": "stream",
     "text": [
      "ReLU(v) =\n",
      " [0.         0.99734545 0.2829785  0.         0.         1.65143654]\n",
      "ReLU(m) =\n",
      " [[0.         0.         1.26593626]\n",
      " [0.         0.         0.        ]\n",
      " [1.49138963 0.         0.        ]\n",
      " [0.         2.20593008 2.18678609]\n",
      " [1.0040539  0.3861864  0.73736858]]\n",
      "ReLU'(v) =\n",
      " [0 1 1 0 0 1]\n",
      "ReLU'(m) =\n",
      " [[0 0 1]\n",
      " [0 0 0]\n",
      " [1 0 0]\n",
      " [0 1 1]\n",
      " [1 1 1]]\n"
     ]
    }
   ],
   "source": [
    "def relu(x):\n",
    "    res = np.zeros_like(x)\n",
    "    res = np.where(x > 0, x, 0)\n",
    "    return res\n",
    "\n",
    "def d_relu(x):\n",
    "    res = np.zeros_like(x)\n",
    "    res = np.where(x > 0, 1, 0)\n",
    "    return res\n",
    "\n",
    "print(\"ReLU(v) =\\n\", relu(vec))\n",
    "print(\"ReLU(m) =\\n\", relu(mat))\n",
    "print(\"ReLU'(v) =\\n\", d_relu(vec))\n",
    "print(\"ReLU'(m) =\\n\", d_relu(mat))"
   ]
  },
  {
   "cell_type": "markdown",
   "metadata": {},
   "source": [
    "### 第3题"
   ]
  },
  {
   "cell_type": "markdown",
   "metadata": {},
   "source": [
    "练习标量的反向传播算法。考虑一个两层的前馈神经网络（见第5周课件107页），其中数据和权重都是标量：\n",
    "\n",
    "![](img/model1.png)\n",
    "\n",
    "如下为正向的计算过程："
   ]
  },
  {
   "cell_type": "code",
   "execution_count": 6,
   "metadata": {},
   "outputs": [],
   "source": [
    "x = 1.2345\n",
    "w1 = 0.111\n",
    "b1 = 0.222\n",
    "w2 = 0.333\n",
    "b2 = -0.444\n",
    "\n",
    "a0 = x\n",
    "z1 = w1 * a0 + b1\n",
    "a1 = sigmoid(z1)\n",
    "z2 = w2 * a1 + b2\n",
    "a2 = z2\n",
    "\n",
    "yhat = a2\n",
    "y = 5.4321"
   ]
  },
  {
   "cell_type": "markdown",
   "metadata": {},
   "source": [
    "令损失函数为 $l=(y-\\hat{y})^2$，则可以计算出 $l$ 对 $a_2=\\hat{y}$ 的导数为 $\\mathrm{d}l/\\mathrm{d}a_2=2(a_2-y)$："
   ]
  },
  {
   "cell_type": "code",
   "execution_count": 7,
   "metadata": {},
   "outputs": [],
   "source": [
    "d_l_a2 = 2.0 * (a2 - y) # This is the \"upstream derivative\" associated with a2"
   ]
  },
  {
   "cell_type": "markdown",
   "metadata": {},
   "source": [
    "现在将 $a_2$ 的导数反向传播给 $z_2$。首先计算 $a_2$ 对 $z_2$ 的“局部导数”：因为 $a_2=z_2$，所以局部导数为1。然后将“上游导数”乘以“局部导数”，即得到“下游导数”。"
   ]
  },
  {
   "cell_type": "code",
   "execution_count": 8,
   "metadata": {},
   "outputs": [
    {
     "name": "stdout",
     "output_type": "stream",
     "text": [
      "-11.360055548261299\n"
     ]
    }
   ],
   "source": [
    "d_a2_z2 = 1.0 # The \"local derivative\" of a2 with respect to z2\n",
    "d_l_z2 = d_l_a2 * d_a2_z2 # The \"downstream derivative\" of l with respect to z2\n",
    "\n",
    "print(d_l_z2)"
   ]
  },
  {
   "cell_type": "markdown",
   "metadata": {},
   "source": [
    "接下来将 $z_2$ 的导数继续向下游传播。在上一层的计算中得到的“下游导数”现在变成了“上游导数”，进而向 $a_1$、$w_2$ 和 $b_2$ 传播。依然进行局部导数的计算，可以得到 $\\mathrm{d}z_2/\\mathrm{d}a_1=w_2$, $\\mathrm{d}z_2/\\mathrm{d}w_2=a_1$, $\\mathrm{d}z_2/\\mathrm{d}b_2=1$。"
   ]
  },
  {
   "cell_type": "code",
   "execution_count": 9,
   "metadata": {},
   "outputs": [],
   "source": [
    "d_z2_a1 = w2\n",
    "d_z2_w2 = a1\n",
    "d_z2_b2 = 1.0"
   ]
  },
  {
   "cell_type": "markdown",
   "metadata": {},
   "source": [
    "于是通过链式法则，将“上游导数”乘以“局部导数”得到“下游导数”。"
   ]
  },
  {
   "cell_type": "code",
   "execution_count": 10,
   "metadata": {},
   "outputs": [
    {
     "name": "stdout",
     "output_type": "stream",
     "text": [
      "-3.7828984975710127\n",
      "-6.688862995036224\n",
      "-11.360055548261299\n"
     ]
    }
   ],
   "source": [
    "d_l_a1 = d_l_z2 * d_z2_a1\n",
    "d_l_w2 = d_l_z2 * d_z2_w2\n",
    "d_l_b2 = d_l_z2 * d_z2_b2\n",
    "\n",
    "print(d_l_a1)\n",
    "print(d_l_w2)\n",
    "print(d_l_b2)"
   ]
  },
  {
   "cell_type": "markdown",
   "metadata": {},
   "source": [
    "请完成后续的过程，计算出 $\\mathrm{d}l/\\mathrm{d}w_1$ 和 $\\mathrm{d}l/\\mathrm{d}b_1$。"
   ]
  },
  {
   "cell_type": "code",
   "execution_count": 11,
   "metadata": {},
   "outputs": [],
   "source": [
    "d_a1_z1 = a1 * (1 - a1)\n",
    "d_l_z1 = d_l_a1 * d_a1_z1\n",
    "d_z1_w1 = a0\n",
    "d_z1_a0 = w1\n",
    "d_z1_b1 = 1.0"
   ]
  },
  {
   "cell_type": "code",
   "execution_count": 12,
   "metadata": {},
   "outputs": [
    {
     "name": "stdout",
     "output_type": "stream",
     "text": [
      "-1.1306675893376559\n",
      "-0.9158911213751769\n"
     ]
    }
   ],
   "source": [
    "d_l_w1 = d_l_z1 * d_z1_w1\n",
    "d_l_b1 = d_l_z1 * d_z1_b1\n",
    "print(d_l_w1)\n",
    "print(d_l_b1)"
   ]
  },
  {
   "cell_type": "markdown",
   "metadata": {},
   "source": [
    "```py\n",
    "d_l_w1 = ...\n",
    "d_l_b1 = ...\n",
    "\n",
    "print(d_l_w1)\n",
    "print(d_l_b1)\n",
    "```"
   ]
  },
  {
   "cell_type": "markdown",
   "metadata": {},
   "source": [
    "### 第4题"
   ]
  },
  {
   "cell_type": "markdown",
   "metadata": {},
   "source": [
    "现在考虑一个更实际的场景，首先，数据包含多个观测，每个观测占据一行："
   ]
  },
  {
   "cell_type": "code",
   "execution_count": 13,
   "metadata": {},
   "outputs": [],
   "source": [
    "x = np.array([[0.0, 0.0],\n",
    "              [0.0, 1.0],\n",
    "              [1.0, 0.0],\n",
    "              [1.0, 1.0]])\n",
    "y = np.array([[0.0],\n",
    "              [1.0],\n",
    "              [1.0],\n",
    "              [0.0]])"
   ]
  },
  {
   "cell_type": "markdown",
   "metadata": {},
   "source": [
    "可以看出输入的维度为 $p=2$，输出的维度为 $d=1$，样本量为 $n=4$。我们将构建一个两层的前馈神经网络，其中隐藏层的维度为 $r=5$。计算流程如下：\n",
    "\n",
    "![](img/model2.png)\n",
    "\n",
    "$Z_1=XW_1+\\mathbf{1}_nb_1^T,\\quad A_1=\\mathrm{softplus}(Z_1)$\n",
    "\n",
    "$Z_2=A_1W_2+\\mathbf{1}_nb_2^T,\\quad A_2=\\mathrm{sigmoid}(Z_2)$\n",
    "\n",
    "其中 $\\mathbf{1}_n$ 为元素全为1的 $n\\times 1$ 向量，$W_1$ 为 $p\\times r$ 矩阵，$b_1$ 为 $r\\times 1$ 向量，$W_2$ 为 $r\\times d$ 矩阵，$b_2$ 为 $d\\times 1$ 向量。"
   ]
  },
  {
   "cell_type": "code",
   "execution_count": 14,
   "metadata": {},
   "outputs": [
    {
     "name": "stdout",
     "output_type": "stream",
     "text": [
      "[[0.99818247]\n",
      " [0.98868386]\n",
      " [0.99961553]\n",
      " [0.99139015]]\n"
     ]
    }
   ],
   "source": [
    "p = 2\n",
    "d = 1\n",
    "n = 4\n",
    "r = 5\n",
    "\n",
    "np.random.seed(123)\n",
    "w1 = np.random.normal(size=(p, r))\n",
    "b1 = np.random.normal(size=(r, 1))\n",
    "w2 = np.random.normal(size=(r, d))\n",
    "b2 = np.random.normal(size=(d, 1))\n",
    "\n",
    "a0 = x\n",
    "ones = np.ones((n, 1))\n",
    "z1 = a0.dot(w1) + ones.dot(b1.T)\n",
    "a1 = softplus(z1)\n",
    "z2 = a1.dot(w2) + ones.dot(b2.T)\n",
    "a2 = sigmoid(z2)\n",
    "\n",
    "phat = a2\n",
    "print(phat)"
   ]
  },
  {
   "cell_type": "markdown",
   "metadata": {},
   "source": [
    "定义第 $i$ 个观测的损失函数为 $l(y_i,\\hat{p}_i)=-y_i \\cdot \\log(\\hat{p}_i)-(1-y_i) \\cdot \\log(1-\\hat{p}_i)$，请推导出 $l$ 对 $\\hat{p}_i$ 的导数。"
   ]
  },
  {
   "cell_type": "markdown",
   "metadata": {},
   "source": [
    "$\\mathrm{d}l/\\mathrm{d}\\hat{p}_i=(\\hat{p}_i-y_i)/(\\hat{p}_i\\cdot(1-\\hat{p}_i))$"
   ]
  },
  {
   "cell_type": "markdown",
   "metadata": {},
   "source": [
    "定义整体的损失函数为 $L(y,\\hat{p})=n^{-1}\\sum_{i=1}^n l(y_i,p_i)$，请给出 $L$ 对 $\\hat{p}_i$ 的导数。"
   ]
  },
  {
   "cell_type": "markdown",
   "metadata": {},
   "source": [
    "$\\mathrm{d}L/\\mathrm{d}\\hat{p}_i=n^{-1}(\\hat{p}_i-y_i)/(\\hat{p}_i\\cdot(1-\\hat{p}_i))$"
   ]
  },
  {
   "cell_type": "markdown",
   "metadata": {},
   "source": [
    "将 $\\mathrm{d}L/\\mathrm{d}\\hat{p}=(\\mathrm{d}L/\\mathrm{d}\\hat{p}_1,\\ldots,\\mathrm{d}L/\\mathrm{d}\\hat{p}_n)^T$ 看作一个向量，计算出其结果并赋给变量 `d_l_a2`."
   ]
  },
  {
   "cell_type": "code",
   "execution_count": 15,
   "metadata": {},
   "outputs": [
    {
     "name": "stdout",
     "output_type": "stream",
     "text": [
      "[[137.54924583]\n",
      " [ -0.25286142]\n",
      " [ -0.25009615]\n",
      " [ 29.03650883]]\n"
     ]
    }
   ],
   "source": [
    "d_l_a2 = (1 / n) * (phat - y)/(phat * (1 - phat))\n",
    "print(d_l_a2)\n",
    "\n",
    "if d_l_a2.shape != a2.shape:\n",
    "    print(\"Shapes do not match! Please redo the calculation.\")"
   ]
  },
  {
   "cell_type": "markdown",
   "metadata": {},
   "source": [
    "```py\n",
    "d_l_a2 = ...\n",
    "print(d_l_a2)\n",
    "\n",
    "if d_l_a2.shape != a2.shape:\n",
    "    print(\"Shapes do not match! Please redo the calculation.\")\n",
    "```"
   ]
  },
  {
   "cell_type": "markdown",
   "metadata": {},
   "source": [
    "`d_l_a2` 是损失函数对 $A_2$ 的“上游导数”，我们需要将其传播给下游 $Z_2$。由于 $A_2=\\mathrm{sigmoid}(Z_2)$，根据课件中反向传播的规则1，可以得到下游导数为\n",
    "\n",
    "$\\mathrm{d}L/\\mathrm{d}Z_2=\\mathrm{d}L/\\mathrm{d}A_2\\circ \\mathrm{sigmoid}'(Z_2)$，\n",
    "\n",
    "其中 $\\mathrm{sigmoid}'$ 是 Sigmoid 的导数，$\\circ$ 是向量或矩阵的逐元素相乘。"
   ]
  },
  {
   "cell_type": "code",
   "execution_count": 16,
   "metadata": {},
   "outputs": [
    {
     "name": "stdout",
     "output_type": "stream",
     "text": [
      "[[ 2.49545617e-01]\n",
      " [-2.82903496e-03]\n",
      " [-9.61178724e-05]\n",
      " [ 2.47847537e-01]]\n"
     ]
    }
   ],
   "source": [
    "d_l_z2 = d_l_a2 * d_sigmoid(z2)\n",
    "print(d_l_z2)\n",
    "\n",
    "if d_l_z2.shape != z2.shape:\n",
    "    print(\"Shapes do not match! Please redo the calculation.\")"
   ]
  },
  {
   "cell_type": "markdown",
   "metadata": {},
   "source": [
    "接下来，再将 $Z_2$ 的“上游导数”传给 $A_1$、$W_2$ 和 $b_2$。根据规则2，\n",
    "\n",
    "$\\mathrm{d}L/\\mathrm{d}A_1=(\\mathrm{d}L/\\mathrm{d}Z_2)W_2^T$，\n",
    "\n",
    "$\\mathrm{d}L/\\mathrm{d}W_2=A_1^T(\\mathrm{d}L/\\mathrm{d}Z_2)$，\n",
    "\n",
    "$\\mathrm{d}L/\\mathrm{d}b_2=(\\mathrm{d}L/\\mathrm{d}Z_2)^T\\mathbf{1}_n$。\n",
    "\n",
    "请根据如上公式计算对应的导数，并赋值给相应的变量。"
   ]
  },
  {
   "cell_type": "code",
   "execution_count": 17,
   "metadata": {},
   "outputs": [
    {
     "name": "stdout",
     "output_type": "stream",
     "text": [
      "d_A1:\n",
      " [[-1.08390457e-01  5.50480184e-01  5.45702884e-01  2.50557250e-01  9.63711234e-02]\n",
      " [ 1.22879494e-03 -6.24065331e-03 -6.18649429e-03 -2.84050357e-03 -1.09253482e-03]\n",
      " [ 4.17489205e-05 -2.12029306e-04 -2.10189226e-04 -9.65075245e-05 -3.71194151e-05]\n",
      " [-1.07652894e-01  5.46734339e-01  5.41989547e-01  2.48852286e-01  9.57153480e-02]]\n",
      "d_W2:\n",
      " [[0.25687749]\n",
      " [0.20993967]\n",
      " [0.80962486]\n",
      " [0.18883191]\n",
      " [0.15786162]]\n",
      "d_b2:\n",
      " [[0.494468]]\n"
     ]
    }
   ],
   "source": [
    "d_l_a1 = np.matmul(d_l_z2,w2.T)\n",
    "print(\"d_A1:\\n\", d_l_a1)\n",
    "\n",
    "d_l_w2 = np.matmul(a1.T,d_l_z2)\n",
    "print(\"d_W2:\\n\", d_l_w2)\n",
    "\n",
    "tmp2 = np.ones((n,1))\n",
    "d_l_b2 = np.matmul(d_l_z2.T,tmp2)\n",
    "print(\"d_b2:\\n\", d_l_b2)\n",
    "\n",
    "if (d_l_a1.shape != a1.shape) or (d_l_w2.shape != w2.shape) or (d_l_b2.shape != b2.shape):\n",
    "    print(\"Shapes do not match! Please redo the calculation.\")"
   ]
  },
  {
   "cell_type": "markdown",
   "metadata": {},
   "source": [
    "```py\n",
    "d_l_a1 = ...\n",
    "print(\"d_A1:\\n\", d_l_a1)\n",
    "\n",
    "d_l_w2 = ...\n",
    "print(\"d_W2:\\n\", d_l_w2)\n",
    "\n",
    "d_l_b2 = ...\n",
    "print(\"d_b2:\\n\", d_l_b2)\n",
    "\n",
    "if (d_l_a1.shape != a1.shape) || (d_l_w2.shape != w2.shape) || (d_l_b2.shape != b2.shape):\n",
    "    print(\"Shapes do not match! Please redo the calculation.\")\n",
    "```"
   ]
  },
  {
   "cell_type": "markdown",
   "metadata": {},
   "source": [
    "请完成后续的过程，计算出 $\\mathrm{d}L/\\mathrm{d}W_1$ 和 $\\mathrm{d}L/\\mathrm{d}b_1$。"
   ]
  },
  {
   "cell_type": "code",
   "execution_count": 18,
   "metadata": {},
   "outputs": [
    {
     "name": "stdout",
     "output_type": "stream",
     "text": [
      "[[-2.42004461e-02  1.37311901e-01  8.18350713e-02  5.66580446e-02  2.29434333e-02]\n",
      " [ 2.44643498e-04 -4.29613316e-04 -1.18082517e-03 -6.44657097e-04 -1.82744670e-04]\n",
      " [ 5.21208714e-06 -4.35235860e-05 -2.60582020e-05 -9.05258758e-06 -7.22163393e-06]\n",
      " [-2.68273708e-02  8.03008290e-02  8.88455563e-02  5.15840795e-02  1.09188555e-02]]\n",
      "d_W1:\n",
      " [[-0.02682216  0.08025731  0.0888195   0.05157503  0.01091163]\n",
      " [-0.02658273  0.07987122  0.08766473  0.05093942  0.01073611]]\n",
      "d_b1:\n",
      " [[-0.05077796]\n",
      " [ 0.21713959]\n",
      " [ 0.16947374]\n",
      " [ 0.10758841]\n",
      " [ 0.03367232]]\n"
     ]
    }
   ],
   "source": [
    "d_l_z1 = d_l_a1 * d_sigmoid(z1)\n",
    "print(d_l_z1)\n",
    "\n",
    "d_l_w1 = np.matmul(a0.T,d_l_z1)\n",
    "print(\"d_W1:\\n\", d_l_w1)\n",
    "\n",
    "tmp2 = np.ones((n, 1))\n",
    "d_l_b1 = np.matmul(d_l_z1.T,tmp2)\n",
    "print(\"d_b1:\\n\", d_l_b1)\n",
    "\n",
    "if (d_l_w1.shape != w1.shape) or (d_l_b1.shape != b1.shape):\n",
    "    print(\"Shapes do not match! Please redo the calculation.\")"
   ]
  },
  {
   "cell_type": "markdown",
   "metadata": {},
   "source": [
    "```py\n",
    "d_l_w1 = ...\n",
    "print(\"d_W1:\\n\", d_l_w1)\n",
    "\n",
    "d_l_b1 = ...\n",
    "print(\"d_b1:\\n\", d_l_b1)\n",
    "\n",
    "if (d_l_w1.shape != w1.shape) or (d_l_b1.shape != b1.shape):\n",
    "    print(\"Shapes do not match! Please redo the calculation.\")\n",
    "```"
   ]
  },
  {
   "cell_type": "markdown",
   "metadata": {},
   "source": [
    "### 第5题"
   ]
  },
  {
   "cell_type": "markdown",
   "metadata": {},
   "source": [
    "将第4题中的步骤封装成三个函数：`forward()` 计算正向传播结果，得到预测值向量 `phat`，`loss()` 计算整体损失函数值，`backward()` 计算反向传播后各参数的导数。"
   ]
  },
  {
   "cell_type": "code",
   "execution_count": 19,
   "metadata": {},
   "outputs": [],
   "source": [
    "def forward(x, w1, b1, w2, b2):\n",
    "    n = x.shape[0]\n",
    "    ones = np.ones((n, 1))\n",
    "    a0 = x\n",
    "    z1 = a0.dot(w1) + ones.dot(b1.T)\n",
    "    a1 = softplus(z1)\n",
    "    z2 = a1.dot(w2) + ones.dot(b2.T)\n",
    "    a2 = sigmoid(z2)\n",
    "    return z1, a1, z2, a2\n",
    "\n",
    "def loss_function(y, phat):\n",
    "    loss1 = -y * np.log(phat) - (1 - y) * np.log(1 - phat)\n",
    "    loss = np.sum(loss1)\n",
    "    return loss\n",
    "\n",
    "def backward(x, w1, b1, w2, b2, z1, a1, z2, a2, y):\n",
    "    a0 = x\n",
    "    d_l_a2 = (1 / n) * (phat - y)/(phat * (1 - phat))\n",
    "    d_l_z2 = d_l_a2 * d_sigmoid(z2)\n",
    "    d_l_a1 = np.matmul(d_l_z2,w2.T)\n",
    "    d_l_w2 = np.matmul(a1.T,d_l_z2)\n",
    "    tmp2 = np.ones((n,1))\n",
    "    d_l_b2 = np.matmul(d_l_z2.T,tmp2)\n",
    "    d_l_z1 = d_l_a1 * d_sigmoid(z1)\n",
    "    d_l_w1 = np.matmul(a0.T,d_l_z1)\n",
    "    tmp1 = np.ones((n,1))\n",
    "    d_l_b1 = np.matmul(d_l_z1.T,tmp1)\n",
    "    return d_l_w1, d_l_b1, d_l_w2, d_l_b2"
   ]
  },
  {
   "cell_type": "markdown",
   "metadata": {},
   "source": [
    "与之前的结果互相印证："
   ]
  },
  {
   "cell_type": "code",
   "execution_count": 20,
   "metadata": {
    "scrolled": true
   },
   "outputs": [
    {
     "name": "stdout",
     "output_type": "stream",
     "text": [
      "phat =\n",
      " [[0.99818247]\n",
      " [0.98868386]\n",
      " [0.99961553]\n",
      " [0.99139015]]\n",
      "loss = 11.076889889853998\n",
      "(dw1, db1, dw2, db2) =\n",
      " (array([[-0.02682216,  0.08025731,  0.0888195 ,  0.05157503,  0.01091163],\n",
      "       [-0.02658273,  0.07987122,  0.08766473,  0.05093942,  0.01073611]]), array([[-0.05077796],\n",
      "       [ 0.21713959],\n",
      "       [ 0.16947374],\n",
      "       [ 0.10758841],\n",
      "       [ 0.03367232]]), array([[0.25687749],\n",
      "       [0.20993967],\n",
      "       [0.80962486],\n",
      "       [0.18883191],\n",
      "       [0.15786162]]), array([[0.494468]]))\n"
     ]
    }
   ],
   "source": [
    "x = np.array([[0.0, 0.0],\n",
    "              [0.0, 1.0],\n",
    "              [1.0, 0.0],\n",
    "              [1.0, 1.0]])\n",
    "y = np.array([[0.0],\n",
    "              [1.0],\n",
    "              [1.0],\n",
    "              [0.0]])\n",
    "p = 2\n",
    "d = 1\n",
    "n = 4\n",
    "r = 5\n",
    "\n",
    "np.random.seed(123)\n",
    "w1 = np.random.normal(size=(p, r))\n",
    "b1 = np.random.normal(size=(r, 1))\n",
    "w2 = np.random.normal(size=(r, d))\n",
    "b2 = np.random.normal(size=(d, 1))\n",
    "\n",
    "z1, a1, z2, a2 = forward(x, w1, b1, w2, b2)\n",
    "phat = a2\n",
    "loss = loss_function(y, phat)\n",
    "grads = backward(x, w1, b1, w2, b2, z1, a1, z2, a2, y)\n",
    "\n",
    "print(\"phat =\\n\", phat)\n",
    "print(\"loss =\", loss)\n",
    "print(\"(dw1, db1, dw2, db2) =\\n\", grads)"
   ]
  },
  {
   "cell_type": "markdown",
   "metadata": {},
   "source": [
    "最后将这三步放在循环中，并利用梯度下降法拟合出 $x$ 和 $y$ 之间的函数关系。下面是一个完整的神经网络模型，我们可以修改隐藏层的维度。"
   ]
  },
  {
   "cell_type": "code",
   "execution_count": 24,
   "metadata": {},
   "outputs": [
    {
     "name": "stdout",
     "output_type": "stream",
     "text": [
      "iteration 0, loss = 9.994059588113242, prediction = [0.99877267 0.99287977 0.99088107 0.9621769 ]\n",
      "iteration 50, loss = 3.040508840339436, prediction = [0.75977761 0.53392016 0.52247324 0.2865395 ]\n",
      "iteration 100, loss = 2.5658279196891334, prediction = [0.56969021 0.57861744 0.50292919 0.38624436]\n",
      "iteration 150, loss = 2.2353010215891342, prediction = [0.48124296 0.62825427 0.53184384 0.38292563]\n",
      "iteration 200, loss = 1.9325028107737185, prediction = [0.42212657 0.66897135 0.5790532  0.353206  ]\n",
      "iteration 250, loss = 1.6577155743628067, prediction = [0.37134893 0.70464389 0.63052275 0.31768776]\n",
      "iteration 300, loss = 1.4149325528010934, prediction = [0.32502805 0.73728421 0.68002526 0.28211167]\n",
      "iteration 350, loss = 1.205726247301902, prediction = [0.28310063 0.7671249  0.72482555 0.24871976]\n",
      "iteration 400, loss = 1.029064230500413, prediction = [0.2459945  0.79391989 0.76389922 0.21855966]\n",
      "iteration 450, loss = 0.881985083858663, prediction = [0.21383666 0.81751794 0.79717329 0.19202871]\n",
      "iteration 500, loss = 0.7605336375196772, prediction = [0.18638725 0.83799023 0.82509304 0.16910755]\n",
      "iteration 550, loss = 0.6605512370867943, prediction = [0.16317014 0.8555836  0.84833476 0.14952929]\n",
      "iteration 600, loss = 0.5781684100030573, prediction = [0.14361348 0.8706361  0.86762652 0.13290768]\n",
      "iteration 650, loss = 0.5100319103270488, prediction = [0.1271463  0.88350826 0.8836515  0.11882358]\n",
      "iteration 700, loss = 0.4533581801288455, prediction = [0.11324949 0.89454106 0.89700626 0.10687583]\n",
      "iteration 750, loss = 0.4058956183419511, prediction = [0.10147547 0.90403611 0.90819066 0.09670621]\n",
      "iteration 800, loss = 0.365849807097138, prediction = [0.09145001 0.91224986 0.91761341 0.08800793]\n",
      "iteration 850, loss = 0.33180141861519097, prediction = [0.08286569 0.91939547 0.92560414 0.08052509]\n",
      "iteration 900, loss = 0.30263066325412835, prediction = [0.0754723  0.92564794 0.93242672 0.07404753]\n",
      "iteration 950, loss = 0.27745329153549925, prediction = [0.06906705 0.93115016 0.93829183 0.06840423]\n"
     ]
    }
   ],
   "source": [
    "x = np.array([[0.0, 0.0],\n",
    "              [0.0, 1.0],\n",
    "              [1.0, 0.0],\n",
    "              [1.0, 1.0]])\n",
    "y = np.array([[0.0],\n",
    "              [1.0],\n",
    "              [1.0],\n",
    "              [0.0]])\n",
    "\n",
    "n = x.shape[0]\n",
    "p = x.shape[1]\n",
    "d = y.shape[1]\n",
    "r = 15\n",
    "\n",
    "np.random.seed(123)\n",
    "w1 = np.random.normal(size=(p, r))\n",
    "b1 = np.random.normal(size=(r, 1))\n",
    "w2 = np.random.normal(size=(r, d))\n",
    "b2 = np.random.normal(size=(d, 1))\n",
    "\n",
    "nepoch = 1000\n",
    "learning_rate = 0.1\n",
    "\n",
    "for i in range(nepoch):\n",
    "    z1, a1, z2, a2 = forward(x, w1, b1, w2, b2)\n",
    "    phat = a2\n",
    "    loss = loss_function(y, phat)\n",
    "    dw1, db1, dw2, db2 = backward(x, w1, b1, w2, b2, z1, a1, z2, a2, y)\n",
    "    \n",
    "    if i % 50 == 0:\n",
    "        print(f\"iteration {i}, loss = {loss}, prediction = {phat.squeeze()}\")\n",
    "        \n",
    "    w1 = w1 - learning_rate * dw1\n",
    "    b1 = b1 - learning_rate * db1\n",
    "    w2 = w2 - learning_rate * dw2\n",
    "    b2 = b2 - learning_rate * db2"
   ]
  }
 ],
 "metadata": {
  "kernelspec": {
   "display_name": "Python 3",
   "language": "python",
   "name": "python3"
  },
  "language_info": {
   "codemirror_mode": {
    "name": "ipython",
    "version": 3
   },
   "file_extension": ".py",
   "mimetype": "text/x-python",
   "name": "python",
   "nbconvert_exporter": "python",
   "pygments_lexer": "ipython3",
   "version": "3.8.3"
  }
 },
 "nbformat": 4,
 "nbformat_minor": 5
}
